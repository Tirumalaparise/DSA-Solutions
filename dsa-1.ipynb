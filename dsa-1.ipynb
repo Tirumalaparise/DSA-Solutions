{
 "cells": [
  {
   "cell_type": "markdown",
   "id": "intended-beginning",
   "metadata": {},
   "source": [
    "### Nth Fibanocci"
   ]
  },
  {
   "cell_type": "code",
   "execution_count": 1,
   "id": "tropical-length",
   "metadata": {},
   "outputs": [],
   "source": [
    "def Nthfib(n):\n",
    "    f0=0\n",
    "    f1=1\n",
    "    if n==1:\n",
    "        return f0\n",
    "    if n==2:\n",
    "        return f1\n",
    "    for i in range(n-2):\n",
    "        f2=f0+f1\n",
    "        f0=f1\n",
    "        f1=f2\n",
    "    return f2\n",
    "    "
   ]
  },
  {
   "cell_type": "code",
   "execution_count": 2,
   "id": "crazy-premium",
   "metadata": {},
   "outputs": [
    {
     "data": {
      "text/plain": [
       "5"
      ]
     },
     "execution_count": 2,
     "metadata": {},
     "output_type": "execute_result"
    }
   ],
   "source": [
    "Nthfib(6)"
   ]
  },
  {
   "cell_type": "markdown",
   "id": "powered-canvas",
   "metadata": {},
   "source": [
    "### Product sum ,according to depth"
   ]
  },
  {
   "cell_type": "code",
   "execution_count": 32,
   "id": "joined-consensus",
   "metadata": {},
   "outputs": [],
   "source": [
    "depth=1\n",
    "def arr_sum(arr):\n",
    "    s=0\n",
    "    global depth\n",
    "    for i in arr:\n",
    "        if type(i)==list:\n",
    "            depth +=1\n",
    "            p=arr_sum(i)*(depth)\n",
    "            print(depth,p)\n",
    "#             depth=1\n",
    "            depth-=1\n",
    "            s=s+p\n",
    "        else:\n",
    "            s+=i\n",
    "#     print(depth)\n",
    "    return s"
   ]
  },
  {
   "cell_type": "code",
   "execution_count": 33,
   "id": "fifth-retirement",
   "metadata": {
    "scrolled": true
   },
   "outputs": [
    {
     "name": "stdout",
     "output_type": "stream",
     "text": [
      "2 12\n",
      "3 -15\n",
      "2 -10\n"
     ]
    },
    {
     "data": {
      "text/plain": [
       "12"
      ]
     },
     "execution_count": 33,
     "metadata": {},
     "output_type": "execute_result"
    }
   ],
   "source": [
    "arr_sum([5,2,[7,-1],3,[6,[-13,8],4]])"
   ]
  },
  {
   "cell_type": "code",
   "execution_count": 31,
   "id": "noted-wages",
   "metadata": {},
   "outputs": [
    {
     "name": "stdout",
     "output_type": "stream",
     "text": [
      "2 4\n",
      "3 54\n",
      "2 108\n"
     ]
    },
    {
     "data": {
      "text/plain": [
       "121"
      ]
     },
     "execution_count": 31,
     "metadata": {},
     "output_type": "execute_result"
    }
   ],
   "source": [
    "arr_sum([1,2,3,[0,0,2],3,[[5,6,7]]])"
   ]
  },
  {
   "cell_type": "markdown",
   "id": "cardiovascular-mouse",
   "metadata": {},
   "source": [
    "### Permutataions of given array"
   ]
  },
  {
   "cell_type": "code",
   "execution_count": 12,
   "id": "choice-salad",
   "metadata": {},
   "outputs": [],
   "source": [
    "def permute(arr):\n",
    "    from itertools import permutations\n",
    "    p=permutations(arr)\n",
    "    return list(p)"
   ]
  },
  {
   "cell_type": "code",
   "execution_count": 13,
   "id": "molecular-horizontal",
   "metadata": {},
   "outputs": [],
   "source": [
    "p=permute([1,2,3])"
   ]
  },
  {
   "cell_type": "code",
   "execution_count": 14,
   "id": "entitled-worth",
   "metadata": {},
   "outputs": [
    {
     "data": {
      "text/plain": [
       "[(1, 2, 3), (1, 3, 2), (2, 1, 3), (2, 3, 1), (3, 1, 2), (3, 2, 1)]"
      ]
     },
     "execution_count": 14,
     "metadata": {},
     "output_type": "execute_result"
    }
   ],
   "source": [
    "p"
   ]
  },
  {
   "cell_type": "code",
   "execution_count": null,
   "id": "valuable-rebound",
   "metadata": {},
   "outputs": [],
   "source": []
  }
 ],
 "metadata": {
  "kernelspec": {
   "display_name": "Python 3",
   "language": "python",
   "name": "python3"
  },
  "language_info": {
   "codemirror_mode": {
    "name": "ipython",
    "version": 3
   },
   "file_extension": ".py",
   "mimetype": "text/x-python",
   "name": "python",
   "nbconvert_exporter": "python",
   "pygments_lexer": "ipython3",
   "version": "3.7.9"
  }
 },
 "nbformat": 4,
 "nbformat_minor": 5
}
