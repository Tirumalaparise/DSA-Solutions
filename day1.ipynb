{
 "cells": [
  {
   "cell_type": "markdown",
   "metadata": {},
   "source": [
    "### Nth Fibanocci\n",
    "- Problem Statement: \n",
    " - The Fibonacci sequence is defined as follows: the first number of the sequence is 0, the \n",
    "second number is 1 and the nth number is the sum of the (n - 1)th and (n - 2)th numbers. Write a \n",
    "function that takes in an integer n and returns the nth Fibonacci number."
   ]
  },
  {
   "cell_type": "code",
   "execution_count": 1,
   "metadata": {},
   "outputs": [],
   "source": [
    "def Nthfib(n):\n",
    "    f0=0\n",
    "    f1=1\n",
    "    if n==1:\n",
    "        return f0\n",
    "    if n==2:\n",
    "        return f1\n",
    "    for i in range(n-2):\n",
    "        f2=f0+f1\n",
    "        f0=f1\n",
    "        f1=f2\n",
    "    return f2\n",
    "    "
   ]
  },
  {
   "cell_type": "code",
   "execution_count": 2,
   "metadata": {},
   "outputs": [
    {
     "data": {
      "text/plain": [
       "5"
      ]
     },
     "execution_count": 2,
     "metadata": {},
     "output_type": "execute_result"
    }
   ],
   "source": [
    "Nthfib(6)"
   ]
  },
  {
   "cell_type": "markdown",
   "metadata": {},
   "source": [
    "### Product sum ,according to depth\n",
    "- Problem Statement:\n",
    "  - Write a function that takes in a \"special\" array and returns its product sum."
   ]
  },
  {
   "cell_type": "code",
   "execution_count": 1,
   "metadata": {},
   "outputs": [],
   "source": [
    "depth=1\n",
    "def arr_sum(arr):\n",
    "    s=0\n",
    "    global depth\n",
    "    for i in arr:\n",
    "        if type(i)==list:\n",
    "            depth +=1\n",
    "            p=arr_sum(i)*(depth)\n",
    "#             print(depth,p)\n",
    "            depth-=1\n",
    "            s=s+p\n",
    "        else:\n",
    "            s+=i\n",
    "#     print(depth)\n",
    "    return s"
   ]
  },
  {
   "cell_type": "code",
   "execution_count": 2,
   "metadata": {
    "scrolled": true
   },
   "outputs": [
    {
     "data": {
      "text/plain": [
       "12"
      ]
     },
     "execution_count": 2,
     "metadata": {},
     "output_type": "execute_result"
    }
   ],
   "source": [
    "arr_sum([5,2,[7,-1],3,[6,[-13,8],4]])"
   ]
  },
  {
   "cell_type": "code",
   "execution_count": 3,
   "metadata": {},
   "outputs": [
    {
     "data": {
      "text/plain": [
       "121"
      ]
     },
     "execution_count": 3,
     "metadata": {},
     "output_type": "execute_result"
    }
   ],
   "source": [
    "arr_sum([1,2,3,[0,0,2],3,[[5,6,7]]])"
   ]
  },
  {
   "cell_type": "markdown",
   "metadata": {},
   "source": [
    "### Permutataions of given array\n",
    "- Problem Statement:\n",
    "  - Write a function that takes in an array of unique integers and returns an\n",
    "    array of all permutations of those integers in no particular order."
   ]
  },
  {
   "cell_type": "code",
   "execution_count": 12,
   "metadata": {},
   "outputs": [],
   "source": [
    "def permute(arr):\n",
    "    from itertools import permutations\n",
    "    p=permutations(arr)\n",
    "    return list(p)"
   ]
  },
  {
   "cell_type": "code",
   "execution_count": 13,
   "metadata": {},
   "outputs": [],
   "source": [
    "p=permute([1,2,3])"
   ]
  },
  {
   "cell_type": "code",
   "execution_count": 14,
   "metadata": {},
   "outputs": [
    {
     "data": {
      "text/plain": [
       "[(1, 2, 3), (1, 3, 2), (2, 1, 3), (2, 3, 1), (3, 1, 2), (3, 2, 1)]"
      ]
     },
     "execution_count": 14,
     "metadata": {},
     "output_type": "execute_result"
    }
   ],
   "source": [
    "p"
   ]
  },
  {
   "cell_type": "code",
   "execution_count": null,
   "metadata": {},
   "outputs": [],
   "source": []
  }
 ],
 "metadata": {
  "kernelspec": {
   "display_name": "Python 3",
   "language": "python",
   "name": "python3"
  },
  "language_info": {
   "codemirror_mode": {
    "name": "ipython",
    "version": 3
   },
   "file_extension": ".py",
   "mimetype": "text/x-python",
   "name": "python",
   "nbconvert_exporter": "python",
   "pygments_lexer": "ipython3",
   "version": "3.8.3"
  }
 },
 "nbformat": 4,
 "nbformat_minor": 5
}
